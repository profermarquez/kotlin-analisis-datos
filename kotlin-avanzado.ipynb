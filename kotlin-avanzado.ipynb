{
 "cells": [
  {
   "cell_type": "code",
   "execution_count": 1,
   "id": "ec33ead3-1d7c-4c89-8c4f-618fb2034f18",
   "metadata": {},
   "outputs": [
    {
     "name": "stdout",
     "output_type": "stream",
     "text": [
      "Servidor iniciado en http://localhost:8080\n"
     ]
    }
   ],
   "source": [
    "@file:DependsOn(\"io.ktor:ktor-server-core-jvm:2.3.4\")\n",
    "@file:DependsOn(\"io.ktor:ktor-server-netty-jvm:2.3.4\")\n",
    "@file:DependsOn(\"io.ktor:ktor-http-jvm:2.3.4\")\n",
    "@file:DependsOn(\"org.jetbrains.kotlinx:kotlinx-coroutines-core:1.7.3\")\n",
    "@file:DependsOn(\"ch.qos.logback:logback-classic:1.4.11\")\n",
    "\n",
    "import io.ktor.server.engine.*\n",
    "import io.ktor.server.netty.*\n",
    "import io.ktor.server.application.*\n",
    "import io.ktor.server.response.*\n",
    "import io.ktor.server.routing.*\n",
    "import io.ktor.http.ContentType\n",
    "import io.ktor.http.HttpStatusCode\n",
    "import kotlinx.coroutines.*\n",
    "\n",
    "fun startServer() {\n",
    "    embeddedServer(Netty, port = 8080) {\n",
    "        routing {\n",
    "            get(\"/\") {\n",
    "                call.respondText(\n",
    "                    \"¡Hola, desde Kotlin en Jupyter!\",\n",
    "                    ContentType.Text.Plain,\n",
    "                    HttpStatusCode.OK\n",
    "                )\n",
    "            }\n",
    "        }\n",
    "    }.start(wait = false)\n",
    "}\n",
    "\n",
    "// Inicia el servidor en una coroutine\n",
    "fun main() = runBlocking {\n",
    "    launch {\n",
    "        startServer()\n",
    "    }\n",
    "    println(\"Servidor iniciado en http://localhost:8080\")\n",
    "}\n",
    "\n",
    "main()"
   ]
  },
  {
   "cell_type": "code",
   "execution_count": null,
   "id": "28fefdc3-cad3-439c-8fff-86400f5aafe4",
   "metadata": {},
   "outputs": [],
   "source": []
  }
 ],
 "metadata": {
  "kernelspec": {
   "display_name": "Kotlin",
   "language": "kotlin",
   "name": "kotlin"
  },
  "language_info": {
   "codemirror_mode": "text/x-kotlin",
   "file_extension": ".kt",
   "mimetype": "text/x-kotlin",
   "name": "kotlin",
   "nbconvert_exporter": "",
   "pygments_lexer": "kotlin",
   "version": "1.9.23"
  }
 },
 "nbformat": 4,
 "nbformat_minor": 5
}
