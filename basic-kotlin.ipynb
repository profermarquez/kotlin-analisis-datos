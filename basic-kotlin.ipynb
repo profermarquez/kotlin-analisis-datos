{
 "cells": [
  {
   "cell_type": "code",
   "execution_count": 1,
   "id": "a0c66340-06c8-4a6b-810e-5c6158fd7e14",
   "metadata": {},
   "outputs": [],
   "source": [
    "// comentario en Kotlin"
   ]
  },
  {
   "cell_type": "code",
   "execution_count": 2,
   "id": "06ca639f-9326-4a4f-ab25-193de40a97c9",
   "metadata": {},
   "outputs": [],
   "source": [
    "// declaraciones\n",
    "val nombre: String? = null // Puede ser null"
   ]
  },
  {
   "cell_type": "code",
   "execution_count": 3,
   "id": "cb3f4bcc-fd3b-4ffc-ba83-d5e3d4c88790",
   "metadata": {},
   "outputs": [],
   "source": [
    "/*\n",
    "\n",
    "Tipo\tDescripción\tEjemplo\n",
    "Int\tNúmeros enteros\tval x: Int = 10\n",
    "Long\tNúmeros largos\tval y: Long = 100L\n",
    "Float\tNúmeros decimales (32-bit)\tval z: Float = 1.5f\n",
    "Double\tNúmeros decimales (64-bit)\tval d: Double = 3.14\n",
    "Char\tCarácter Unicode\tval c: Char = 'A'\n",
    "String\tCadena de texto\tval s: String = \"Hola\"\n",
    "Boolean\tVerdadero/Falso\tval b: Boolean = true\n",
    "\n",
    "*/"
   ]
  },
  {
   "cell_type": "code",
   "execution_count": 8,
   "id": "f2bbdc8d-8387-40a8-9f2f-386413512d0c",
   "metadata": {},
   "outputs": [],
   "source": [
    "/*\n",
    "\n",
    "Operadores\n",
    "Kotlin soporta operadores comunes:\n",
    "\n",
    "Aritméticos\n",
    "Operador\tDescripción\tEjemplo\n",
    "+\tSuma\ta + b\n",
    "-\tResta\ta - b\n",
    "*\tMultiplicación\ta * b\n",
    "\tDivisión\ta  b\n",
    "\tMódulo\ta  %% b\n",
    "\n",
    "Relacionales\n",
    "Operador\tDescripción\tEjemplo\n",
    "==\tIgual a\ta == b\n",
    "!=\tDistinto de\ta != b\n",
    "<\tMenor que\ta < b\n",
    ">\tMayor que\ta > b\n",
    "<=\tMenor o igual que\ta <= b\n",
    ">=\tMayor o igual que\ta >= b\n",
    "\n",
    "Lógicos\n",
    "Operador\tDescripción\tEjemplo\n",
    "&&\tAND lógico\ta && b\n",
    "`\t\t\n",
    "!\tNOT lógico\t!a\n",
    "Asignación\n",
    "Operador\tDescripción\tEjemplo\n",
    "=\tAsignación\tval x = 10\n",
    "+=\tSuma y asigna\tx += 5\n",
    "-=\tResta y asigna\tx -= 5\n",
    "\n",
    "*/"
   ]
  },
  {
   "cell_type": "code",
   "execution_count": 9,
   "id": "817de6b3-a4b7-4e2a-8614-5d99542cc4b9",
   "metadata": {},
   "outputs": [
    {
     "name": "stdout",
     "output_type": "stream",
     "text": [
      "Mayor que 5\n"
     ]
    }
   ],
   "source": [
    "// Condicionales\n",
    "\n",
    "//if else\n",
    "val num = 10\n",
    "if (num > 5) {\n",
    "    println(\"Mayor que 5\")\n",
    "} else {\n",
    "    println(\"Menor o igual a 5\")\n",
    "}\n",
    "//en una sola linea\n",
    "val max = if (a > b) a else b"
   ]
  },
  {
   "cell_type": "code",
   "execution_count": 10,
   "id": "f32eb6f5-fe00-4143-8a55-005b2ae2b7a0",
   "metadata": {},
   "outputs": [],
   "source": [
    "\n",
    "// when \n",
    "val dia = 3\n",
    "val nombreDia = when (dia) {\n",
    "    1 -> \"Lunes\"\n",
    "    2 -> \"Martes\"\n",
    "    3 -> \"Miércoles\"\n",
    "    else -> \"Desconocido\"\n",
    "}"
   ]
  },
  {
   "cell_type": "code",
   "execution_count": 11,
   "id": "58166dce-ae48-4b5c-acb6-8cea9d3ae028",
   "metadata": {},
   "outputs": [
    {
     "name": "stdout",
     "output_type": "stream",
     "text": [
      "1\n",
      "2\n",
      "3\n",
      "4\n",
      "5\n",
      "1\n",
      "2\n",
      "3\n",
      "4\n",
      "K\n",
      "o\n",
      "t\n",
      "l\n",
      "i\n",
      "n\n"
     ]
    }
   ],
   "source": [
    "//for\n",
    "for (i in 1..5) { // Incluye el 5\n",
    "    println(i)\n",
    "}\n",
    "\n",
    "for (i in 1 until 5) { // Hasta 5, sin incluirlo\n",
    "    println(i)\n",
    "}\n",
    "\n",
    "for (c in \"Kotlin\") { // Itera caracteres\n",
    "    println(c)\n",
    "}\n"
   ]
  },
  {
   "cell_type": "code",
   "execution_count": 12,
   "id": "3981130d-c6da-4694-a943-e5b64f977afb",
   "metadata": {},
   "outputs": [
    {
     "name": "stdout",
     "output_type": "stream",
     "text": [
      "5\n",
      "4\n",
      "3\n",
      "2\n",
      "1\n"
     ]
    }
   ],
   "source": [
    "//while\n",
    "var x = 5\n",
    "while (x > 0) {\n",
    "    println(x)\n",
    "    x--\n",
    "}\n"
   ]
  },
  {
   "cell_type": "code",
   "execution_count": 13,
   "id": "26f89926-2a59-403e-bef1-4496223c4f4f",
   "metadata": {},
   "outputs": [
    {
     "name": "stdout",
     "output_type": "stream",
     "text": [
      "5\n",
      "4\n",
      "3\n",
      "2\n",
      "1\n"
     ]
    }
   ],
   "source": [
    "//do while\n",
    "var x = 5\n",
    "do {\n",
    "    println(x)\n",
    "    x--\n",
    "} while (x > 0)\n"
   ]
  },
  {
   "cell_type": "code",
   "execution_count": 14,
   "id": "50286afb-de3f-4abf-945f-373613f68f5e",
   "metadata": {},
   "outputs": [
    {
     "name": "stdout",
     "output_type": "stream",
     "text": [
      "Hola, Kotlin\n"
     ]
    }
   ],
   "source": [
    "// funciones\n",
    "fun suma(a: Int, b: Int): Int {\n",
    "    return a + b\n",
    "}\n",
    "\n",
    "fun saludo(nombre: String) {\n",
    "    println(\"Hola, $nombre\")\n",
    "}\n",
    "\n",
    "// Llamadas\n",
    "val resultado = suma(3, 5)\n",
    "saludo(\"Kotlin\")\n"
   ]
  },
  {
   "cell_type": "code",
   "execution_count": 15,
   "id": "5a097687-1687-4c38-9d1b-5ff7ab676bce",
   "metadata": {},
   "outputs": [
    {
     "name": "stdout",
     "output_type": "stream",
     "text": [
      "Juan\n",
      "25\n"
     ]
    }
   ],
   "source": [
    "//clases\n",
    "class Persona(val nombre: String, var edad: Int)\n",
    "\n",
    "val persona = Persona(\"Juan\", 25)\n",
    "println(persona.nombre) // Juan\n",
    "println(persona.edad)   // 25\n"
   ]
  },
  {
   "cell_type": "code",
   "execution_count": 16,
   "id": "80c0c32f-4b17-4432-9cc5-de271f81002e",
   "metadata": {},
   "outputs": [
    {
     "name": "stdout",
     "output_type": "stream",
     "text": [
      "Hola, Kotlin\n",
      "1\n",
      "3\n",
      "5\n",
      "7\n",
      "9\n"
     ]
    }
   ],
   "source": [
    "// utilidades\n",
    "// comodin $\n",
    "val nombre = \"Kotlin\"\n",
    "println(\"Hola, $nombre\")\n",
    "// rangos\n",
    "for (i in 1..10 step 2) {\n",
    "    println(i) // 1, 3, 5, ...\n",
    "}"
   ]
  },
  {
   "cell_type": "code",
   "execution_count": null,
   "id": "f3271746-9198-40b5-87d1-09c622330bd7",
   "metadata": {},
   "outputs": [],
   "source": []
  }
 ],
 "metadata": {
  "kernelspec": {
   "display_name": "Kotlin",
   "language": "kotlin",
   "name": "kotlin"
  },
  "language_info": {
   "codemirror_mode": "text/x-kotlin",
   "file_extension": ".kt",
   "mimetype": "text/x-kotlin",
   "name": "kotlin",
   "nbconvert_exporter": "",
   "pygments_lexer": "kotlin",
   "version": "1.9.23"
  }
 },
 "nbformat": 4,
 "nbformat_minor": 5
}
